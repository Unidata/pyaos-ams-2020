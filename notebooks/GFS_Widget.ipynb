{
  "cells": [
    {
      "cell_type": "code",
      "execution_count": null,
      "metadata": {
        "collapsed": false
      },
      "outputs": [],
      "source": [
        "%matplotlib inline"
      ]
    },
    {
      "cell_type": "markdown",
      "metadata": {},
      "source": [
        "\n# Jupyter Notebook Widget Example\n\n\nAn example of using widgets in a Jupyter Notebook.\n\nThis example is only intended to be run in a Jupyter Notebook running a Python\nkernel as it displays the ability to use widgets and make an interactive plot.\nThe interactive plot has the ability to display three different variables, a couple\nof different times, and use four different color maps.\n"
      ]
    },
    {
      "cell_type": "code",
      "execution_count": null,
      "metadata": {
        "collapsed": false
      },
      "outputs": [],
      "source": [
        "from datetime import datetime, timedelta\n\nimport cartopy.crs as ccrs\nimport cartopy.feature as cfeature\nfrom IPython.display import display\nimport ipywidgets as widgets\nimport matplotlib.pyplot as plt\nfrom metpy.units import units\nfrom netCDF4 import num2date\nimport numpy as np\nfrom siphon.catalog import TDSCatalog\nfrom siphon.ncss import NCSS\n\n\n# Request the GFS data from the thredds server\ngfs = TDSCatalog('http://thredds-jetstream.unidata.ucar.edu/thredds/catalog/grib/'\n                 'NCEP/GFS/Global_0p5deg/catalog.xml')\ndataset = list(gfs.datasets.values())[1]\nprint(dataset.access_urls)\n\n# Create NCSS object to access the NetcdfSubset\nncss = NCSS(dataset.access_urls['NetcdfSubset'])\n\n# get current date and time\nnow = datetime.utcnow()\nnow = datetime(now.year, now.month, now.day, now.hour)\n\n# define time range you want the data for\nstart = now\nend = now + timedelta(hours=12)\n\nquery = ncss.query()\nquery.time_range(start, end)\nquery.lonlat_box(north=60, south=20, east=310, west=230)\nquery.accept('netcdf4')\nquery.variables('Temperature_surface', 'Relative_humidity_entire_atmosphere_single_layer',\n                'Wind_speed_gust_surface')\n\n\n# Helper function for finding proper time variable\ndef find_time_var(var, time_basename='time'):\n    for coord_name in var.coordinates.split():\n        if coord_name.startswith(time_basename):\n            return coord_name\n    raise ValueError('No time variable found for ' + var.name)\n\n\n# Request data for the variables you want to use\ndata = ncss.get_data(query)\nprint(list(data.variables))\n\n# Pull out the lat and lon data\nlat = data.variables['lat'][:]\nlon = data.variables['lon'][:]\n\n# Get time into a datetime object\ntime_var = data.variables[find_time_var(data.variables['Temperature_surface'])]\ntime_var = num2date(time_var[:], time_var.units).tolist()\ntime_strings = [t.strftime('%m/%d %H:%M') for t in time_var]\n\n# Combine 1D latitude and longitudes into a 2D grid of locations\nlon_2d, lat_2d = np.meshgrid(lon, lat)\n\n\ndef plot(varname='', time=0, colormap=''):\n    variable = data.variables[varname][:]\n    fig = plt.figure(figsize=(10, 8))\n    ax = fig.add_subplot(111, projection=ccrs.PlateCarree())\n    ax.set_extent([235., 290., 20., 55.])\n    ax.set_title('GFS 12-Hour Forecast', size=16)\n\n    # Add state/country boundaries to plot\n    ax.add_feature(cfeature.STATES)\n    ax.add_feature(cfeature.BORDERS)\n\n    if varname == 'Temperature_surface':\n        variable = (variable * units.kelvin).to('degF')\n\n    # Contour based on variable chosen\n    c = ax.contourf(lon_2d, lat_2d, variable[time_strings.index(time)], cmap=colormap)\n    cb = fig.colorbar(c, ax=ax, shrink=0.7)\n\n    if varname == 'Temperature_surface':\n        cb.set_label(r'$^{o}F$', size='large')\n    if varname == 'Relative_humidity_entire_atmosphere_single_layer':\n        cb.set_label(r'$\\%$', size='large')\n    if varname == 'Wind_speed_gust_surface':\n        cb.set_label(r'$m/s$', size='large')\n\n\nvar_widget = widgets.Dropdown(\n    options={'Temperature': 'Temperature_surface',\n             'Relative Humidity': 'Relative_humidity_entire_atmosphere_single_layer',\n             'Wind Speed': 'Wind_speed_gust_surface'},\n    description='Variable', alignment='center')\ntime_widget = widgets.SelectionSlider(description='Time', options=time_strings, width='40%')\ncolormap_widget = widgets.RadioButtons(description='Colormap',\n                                       options=['viridis', 'coolwarm', 'YlGnBu', 'RdPu'])\nx = widgets.interactive(plot, varname=var_widget, time=time_widget, colormap=colormap_widget)\ndisplay(x)"
      ]
    }
  ],
  "metadata": {
    "kernelspec": {
      "display_name": "Python [conda env:pyaos-ams-2020]",
      "language": "python",
      "name": "conda-env-pyaos-ams-2020-py"
    },
    "language_info": {
      "codemirror_mode": {
        "name": "ipython",
        "version": 3
      },
      "file_extension": ".py",
      "mimetype": "text/x-python",
      "name": "python",
      "nbconvert_exporter": "python",
      "pygments_lexer": "ipython3",
      "version": "3.7.3"
    }
  },
  "nbformat": 4,
  "nbformat_minor": 0
}
