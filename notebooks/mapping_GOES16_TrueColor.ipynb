{
  "cells": [
    {
      "cell_type": "code",
      "execution_count": null,
      "metadata": {
        "collapsed": false
      },
      "outputs": [],
      "source": [
        "%matplotlib inline"
      ]
    },
    {
      "cell_type": "markdown",
      "metadata": {},
      "source": [
        "\n==========================\nGOES-16: True Color Recipe\n==========================\nBy: [Brian Blaylock](http://home.chpc.utah.edu/~u0553130/Brian_Blaylock/home.html)\nwith help from Julien Chastang (UCAR-Unidata).\n\nAdditional notebooks analyzing GOES-16 and other data can be found in [Brian's\nGitHub repository](https://github.com/blaylockbk/pyBKB_v3/).\n\nThis notebook shows how to make a true color image from the GOES-16\nAdvanced Baseline Imager (ABI) level 2 data. We will plot the image with\nmatplotlib and Cartopy. The methods shown here are stitched together from the\nfollowing online resources:\n\n\n- [**CIMSS True Color RGB Quick Guide**](http://cimss.ssec.wisc.edu/goes/OCLOFactSheetPDFs/ABIQuickGuide_CIMSSRGB_v2.pdf)\n- [ABI Bands Quick Information Guides](https://www.goes-r.gov/education/ABI-bands-quick-info.html)\n- [Open Commons Consortium](http://edc.occ-data.org/goes16/python/)\n- [GeoNetCast Blog](https://geonetcast.wordpress.com/2017/07/25/geonetclass-manipulating-goes-16-data-with-python-part-vi/)\n- [Proj documentation](https://proj4.org/operations/projections/geos.html?highlight=geostationary)\n\nTrue color images are an RGB composite of the following three channels:\n\n|        --| Wavelength   | Channel | Description   |\n|----------|--------------|---------|---------------|\n| **Red**  | 0.64 &#181;m |    2    | Red Visible   |\n| **Green**| 0.86 &#181;m |    3    | Veggie Near-IR|\n| **Blue** | 0.47 &#181;m |    1    | Blue Visible  |\n\nFor this demo, we use the **Level 2 Multichannel formated data** (ABI-L2-MCMIP)\nfor the CONUS domain. This file contains all sixteen channels on the ABI fixed\ngrid (~2 km grid spacing).\n\nGOES-16 data is downloaded from Unidata, but you may also\ndownload GOES-16 or 17 files from NOAA's GOES archive on [Amazon S3](https://aws.amazon.com/public-datasets/goes/).\nI created a [web interface](http://home.chpc.utah.edu/~u0553130/Brian_Blaylock/cgi-bin/goes16_download.cgi?source=aws&satellite=noaa-goes16&domain=C&product=ABI-L2-MCMIP)\nto easily download files from the Amazon archive. For scripted or bulk\ndownloads, you should use `rclone` or `AWS CLI`. You may also download files\nfrom the [Environmental Data Commons](http://edc.occ-data.org/goes16/getdata/)\nand [NOAA\nCLASS](https://www.avl.class.noaa.gov/saa/products/search?sub_id=0&datatype_family=GRABIPRD&submit.x=25&submit.y=9).\n\nFile names have the following format...\n\n`OR_ABI-L2-MCMIPC-M3_G16_s20181781922189_e20181781924562_c20181781925075.nc`\n\n`OR`     - Indicates the system is operational\n\n`ABI`    - Instrument type\n\n`L2`     - Level 2 Data\n\n`MCMIP`  - Multichannel Cloud and Moisture Imagery products\n\n`c`      - CONUS file (created every 5 minutes).\n\n`M3`     - Scan mode\n\n`G16`    - GOES-16\n\n`sYYYYJJJHHMMSSZ` - Scan start: 4 digit year, 3 digit day of year (Julian day), hour, minute, second, tenth second\n\n`eYYYYJJJHHMMSSZ` - Scan end\n\n`cYYYYJJJHHMMSSZ` - File Creation\n`.nc`    - NetCDF file extension\n"
      ]
    },
    {
      "cell_type": "markdown",
      "metadata": {},
      "source": [
        "First, import the libraries we will use\n---------------------------------------\n\n"
      ]
    },
    {
      "cell_type": "code",
      "execution_count": null,
      "metadata": {
        "collapsed": false
      },
      "outputs": [],
      "source": [
        "from datetime import datetime\n\nimport cartopy.crs as ccrs\nimport matplotlib.pyplot as plt\nimport metpy  # noqa: F401\nimport numpy as np\nimport xarray"
      ]
    },
    {
      "cell_type": "markdown",
      "metadata": {},
      "source": [
        "Open the GOES-16 NetCDF File\n----------------------------\n\n"
      ]
    },
    {
      "cell_type": "code",
      "execution_count": null,
      "metadata": {
        "collapsed": false
      },
      "outputs": [],
      "source": [
        "# Open the file with xarray.\n# The opened file is assigned to \"C\" for the CONUS domain.\n\nFILE = ('http://ramadda-jetstream.unidata.ucar.edu/repository/opendap'\n        '/4ef52e10-a7da-4405-bff4-e48f68bb6ba2/entry.das#fillmismatch')\nC = xarray.open_dataset(FILE)"
      ]
    },
    {
      "cell_type": "markdown",
      "metadata": {},
      "source": [
        "Date and Time Information\n----------------------------\nEach file represents the data collected during one scan sequence for the\ndomain. There are several different time stamps in this file, which are also\nfound in the file's name.\nI'm not a fan of numpy datetime, so I convert it to a regular datetime\n\n"
      ]
    },
    {
      "cell_type": "code",
      "execution_count": null,
      "metadata": {
        "collapsed": false
      },
      "outputs": [],
      "source": [
        "# Scan's start time, converted to datetime object\nscan_start = datetime.strptime(C.time_coverage_start, '%Y-%m-%dT%H:%M:%S.%fZ')\n\n# Scan's end time, converted to datetime object\nscan_end = datetime.strptime(C.time_coverage_end, '%Y-%m-%dT%H:%M:%S.%fZ')\n\n# File creation time, convert to datetime object\nfile_created = datetime.strptime(C.date_created, '%Y-%m-%dT%H:%M:%S.%fZ')\n\n# The 't' variable is the scan's midpoint time\nmidpoint = str(C['t'].data)[:-8]\nscan_mid = datetime.strptime(midpoint, '%Y-%m-%dT%H:%M:%S.%f')\n\nprint('Scan Start    : {}'.format(scan_start))\nprint('Scan midpoint : {}'.format(scan_mid))\nprint('Scan End      : {}'.format(scan_end))\nprint('File Created  : {}'.format(file_created))\nprint('Scan Duration : {:.2f} minutes'.format((scan_end-scan_start).seconds/60))"
      ]
    },
    {
      "cell_type": "markdown",
      "metadata": {},
      "source": [
        "True Color RGB Recipe\n---------------------\n\nColor images are a Red-Green-Blue (RGB) composite of three different\nchannels. To make a \"Natural True Color\" image we assign the following\nchannels as our R, G, and B values:\n\n| --                   | RED         | GREEN          | BLUE         |\n|----------------------|-------------|----------------|--------------|\n| **Name**             | Red Visible | Near-IR Veggie | Blue Visible |\n| **Wavelength**       | 0.64 µm     | 0.86 µm        | 0.47 µm      |\n| **Channel**          | 2           | 3              | 1            |\n| **Units**            | Reflectance | Reflectance    | Reflectance  |\n| **Range of Values**  | 0-1         | 0-1            | 0-1          |\n| **Gamma Correction** | 2.2         | 2.2            | 2.2          |\n\n\nSome important details to know about...\n\n**Value Range**: The data units of channel 1, 2, and 3 are in reflectance and\nhave a range of values between 0 and 1. RGB values must also be between 0 and\n1.\n\n**Gamma Correction**: A gamma correction is applied to control the brightness\nand make the image not look too dark.\n`corrected_value = value^(1/gamma)`.\nMost displays have a decoding gamma of 2.2. Read more about gamma correction\nat the following links...\n[source1](https://en.wikipedia.org/wiki/Gamma_correction) and\n[source2](https://www.cambridgeincolour.com/tutorials/gamma-correction.htm)).\n\n**True Green**: The GREEN \"veggie\" channel on GOES-16 does not measure\nvisible green light. Instead, it measures a near-infrared band sensitive to\nchlorophyll. We could use that channel in place of green, but it would make\nthe green in our image appear too vibrant. Instead, we will tone-down the\ngreen channel by interpolating the value to simulate a natural green color.\n\n      `TrueGreen = (0.45*RED) + (0.1*GREEN) + (0.45*BLUE)`\n\nNow we can begin putting the pieces together...\n\n"
      ]
    },
    {
      "cell_type": "code",
      "execution_count": null,
      "metadata": {
        "collapsed": false
      },
      "outputs": [],
      "source": [
        "# Confirm that each band is the wavelength we are interested in\nfor band in [2, 3, 1]:\n    print('{} is {:.2f} {}'.format(\n        C['band_wavelength_C{:02d}'.format(band)].long_name,\n        float(C['band_wavelength_C{:02d}'.format(band)][0]),\n        C['band_wavelength_C{:02d}'.format(band)].units))"
      ]
    },
    {
      "cell_type": "code",
      "execution_count": null,
      "metadata": {
        "collapsed": false
      },
      "outputs": [],
      "source": [
        "# Load the three channels into appropriate R, G, and B variables\nR = C['CMI_C02'].data\nG = C['CMI_C03'].data\nB = C['CMI_C01'].data"
      ]
    },
    {
      "cell_type": "code",
      "execution_count": null,
      "metadata": {
        "collapsed": false
      },
      "outputs": [],
      "source": [
        "# Apply range limits for each channel. RGB values must be between 0 and 1\nR = np.clip(R, 0, 1)\nG = np.clip(G, 0, 1)\nB = np.clip(B, 0, 1)"
      ]
    },
    {
      "cell_type": "code",
      "execution_count": null,
      "metadata": {
        "collapsed": false
      },
      "outputs": [],
      "source": [
        "# Apply a gamma correction to the image to correct ABI detector brightness\ngamma = 2.2\nR = np.power(R, 1/gamma)\nG = np.power(G, 1/gamma)\nB = np.power(B, 1/gamma)"
      ]
    },
    {
      "cell_type": "code",
      "execution_count": null,
      "metadata": {
        "collapsed": false
      },
      "outputs": [],
      "source": [
        "# Calculate the \"True\" Green\nG_true = 0.45 * R + 0.1 * G + 0.45 * B\nG_true = np.clip(G_true, 0, 1)  # apply limits again, just in case."
      ]
    },
    {
      "cell_type": "markdown",
      "metadata": {},
      "source": [
        "Simple Image\n-----------------\n\nUse `plt.imshow` to get a quick look at the channels and RGB composite we\ncreated.\n\nFirst, plot each channel individually. The deeper the color means the\nsatellite is observing more light in that channel. Clouds appear white because\nthey reflect lots of red, green, and blue light. Notice that the land reflects\na lot of \"green\" in the veggie channel because this channel is sensitive to\nthe chlorophyll.\n\n"
      ]
    },
    {
      "cell_type": "code",
      "execution_count": null,
      "metadata": {
        "collapsed": false
      },
      "outputs": [],
      "source": [
        "fig, ([ax1, ax2, ax3, ax4]) = plt.subplots(1, 4, figsize=(16, 3))\n\nax1.imshow(R, cmap='Reds', vmax=1, vmin=0)\nax1.set_title('Red', fontweight='bold')\nax1.axis('off')\n\nax2.imshow(G, cmap='Greens', vmax=1, vmin=0)\nax2.set_title('Veggie', fontweight='bold')\nax2.axis('off')\n\nax3.imshow(G_true, cmap='Greens', vmax=1, vmin=0)\nax3.set_title('\"True\" Green', fontweight='bold')\nax3.axis('off')\n\nax4.imshow(B, cmap='Blues', vmax=1, vmin=0)\nax4.set_title('Blue', fontweight='bold')\nax4.axis('off')\n\nplt.subplots_adjust(wspace=.02)"
      ]
    },
    {
      "cell_type": "markdown",
      "metadata": {},
      "source": [
        "The addition of the three channels results in a color image. Combine the three\nchannels with a stacked array and display the image with `imshow`.\n\n"
      ]
    },
    {
      "cell_type": "code",
      "execution_count": null,
      "metadata": {
        "collapsed": false
      },
      "outputs": [],
      "source": [
        "# The RGB array with the raw veggie band\nRGB_veggie = np.dstack([R, G, B])\n\n# The RGB array for the true color image\nRGB = np.dstack([R, G_true, B])\n\nfig, (ax1, ax2) = plt.subplots(1, 2, figsize=(16, 6))\n\n# The RGB using the raw veggie band\nax1.imshow(RGB_veggie)\nax1.set_title('GOES-16 RGB Raw Veggie', fontweight='bold', loc='left',\n              fontsize=12)\nax1.set_title('{}'.format(scan_start.strftime('%d %B %Y %H:%M UTC ')),\n              loc='right')\nax1.axis('off')\n\n# The RGB for the true color image\nax2.imshow(RGB)\nax2.set_title('GOES-16 RGB True Color', fontweight='bold', loc='left',\n              fontsize=12)\nax2.set_title('{}'.format(scan_start.strftime('%d %B %Y %H:%M UTC ')),\n              loc='right')\nax2.axis('off')"
      ]
    },
    {
      "cell_type": "markdown",
      "metadata": {},
      "source": [
        "Plot with `Cartopy` Geostationary Projection\n----------------------------------------------\n\nThe image above is not georeferenced. You can see the land and oceans, but we\ndo have enough information to draw state and country boundaries. Use the\n`metpy.io` package to obtain the projection information from the file.  Then\nuse `Cartopy` to plot the image on a map. The GOES data and image is on a\n[geostationary projection\n](https://proj4.org/operations/projections/geos.html?highlight=geostationary).\n\n"
      ]
    },
    {
      "cell_type": "code",
      "execution_count": null,
      "metadata": {
        "collapsed": false
      },
      "outputs": [],
      "source": [
        "# We'll use the `CMI_C02` variable as a 'hook' to get the CF metadata.\ndat = C.metpy.parse_cf('CMI_C02')\n\ngeos = dat.metpy.cartopy_crs\n\n# We also need the x (north/south) and y (east/west) axis sweep of the ABI data\nx = dat.x\ny = dat.y"
      ]
    },
    {
      "cell_type": "markdown",
      "metadata": {},
      "source": [
        "The geostationary projection is the easiest way to plot the image on a\nmap. Essentially, we are stretching the image across a map with the same\nprojection and dimensions as the data.\n\n"
      ]
    },
    {
      "cell_type": "code",
      "execution_count": null,
      "metadata": {
        "collapsed": false
      },
      "outputs": [],
      "source": [
        "fig = plt.figure(figsize=(15, 12))\n\n# Create axis with Geostationary projection\nax = fig.add_subplot(1, 1, 1, projection=geos)\n\n# Add the RGB image to the figure. The data is in the same projection as the\n# axis we just created.\nax.imshow(RGB, origin='upper',\n          extent=(x.min(), x.max(), y.min(), y.max()), transform=geos)\n\n# Add Coastlines and States\nax.coastlines(resolution='50m', color='black', linewidth=0.25)\nax.add_feature(ccrs.cartopy.feature.STATES, linewidth=0.25)\n\nplt.title('GOES-16 True Color', loc='left', fontweight='bold', fontsize=15)\nplt.title('{}'.format(scan_start.strftime('%d %B %Y %H:%M UTC ')), loc='right')\n\nplt.show()"
      ]
    },
    {
      "cell_type": "markdown",
      "metadata": {},
      "source": [
        "Using other projections\n----------------------------------------------\n\nChanging the projections with `Cartopy` is straightforward. Here we display\nthe GOES-16 data on a Lambert Conformal projection.\n\n"
      ]
    },
    {
      "cell_type": "code",
      "execution_count": null,
      "metadata": {
        "collapsed": false
      },
      "outputs": [],
      "source": [
        "fig = plt.figure(figsize=(15, 12))\n\n# Generate an Cartopy projection\nlc = ccrs.LambertConformal(central_longitude=-97.5, standard_parallels=(38.5,\n                                                                        38.5))\n\nax = fig.add_subplot(1, 1, 1, projection=lc)\nax.set_extent([-135, -60, 10, 65], crs=ccrs.PlateCarree())\n\nax.imshow(RGB, origin='upper',\n          extent=(x.min(), x.max(), y.min(), y.max()),\n          transform=geos,\n          interpolation='none')\nax.coastlines(resolution='50m', color='black', linewidth=0.5)\nax.add_feature(ccrs.cartopy.feature.STATES, linewidth=0.5)\n\nplt.title('GOES-16 True Color', loc='left', fontweight='bold', fontsize=15)\nplt.title('{}'.format(scan_start.strftime('%d %B %Y %H:%M UTC ')), loc='right')\n\nplt.show()"
      ]
    },
    {
      "cell_type": "markdown",
      "metadata": {},
      "source": [
        "Plot with `Cartopy`: Plate Carrée  Cylindrical Projection\n---------------------------------------------------------\n\nIt is often useful to zoom on a specific location. This image will zoom in on\nUtah.\n\n"
      ]
    },
    {
      "cell_type": "code",
      "execution_count": null,
      "metadata": {
        "collapsed": false
      },
      "outputs": [],
      "source": [
        "fig = plt.figure(figsize=(8, 8))\n\npc = ccrs.PlateCarree()\n\nax = fig.add_subplot(1, 1, 1, projection=pc)\nax.set_extent([-114.75, -108.25, 36, 43], crs=pc)\n\nax.imshow(RGB, origin='upper',\n          extent=(x.min(), x.max(), y.min(), y.max()),\n          transform=geos,\n          interpolation='none')\n\nax.coastlines(resolution='50m', color='black', linewidth=1)\nax.add_feature(ccrs.cartopy.feature.STATES)\n\nplt.title('GOES-16 True Color', loc='left', fontweight='bold', fontsize=15)\nplt.title('{}'.format(scan_start.strftime('%d %B %Y %H:%M UTC ')), loc='right')\n\nplt.show()"
      ]
    },
    {
      "cell_type": "markdown",
      "metadata": {},
      "source": [
        "Overlay Nighttime IR when dark\n------------------------------\n\nAt nighttime, the visible wavelengths do not measure anything and is just\nblack. There is information, however, from other channels we can use to see\nclouds at night. To view clouds in portions of the domain experiencing\nnighttime, we will overlay the clean infrared (IR) channel over the true color\nimage.\n\nFirst, open a file where the scan shows partial night area and create the true\ncolor RGB as before.\n\n"
      ]
    },
    {
      "cell_type": "code",
      "execution_count": null,
      "metadata": {
        "collapsed": false
      },
      "outputs": [],
      "source": [
        "# A GOES-16 file with half day and half night\n\nFILE = ('http://ramadda-jetstream.unidata.ucar.edu/repository/opendap'\n        '/85da3304-b910-472b-aedf-a6d8c1148131/entry.das#fillmismatch')\nC = xarray.open_dataset(FILE)\n\n# Scan's start time, converted to datetime object\nscan_start = datetime.strptime(C.time_coverage_start, '%Y-%m-%dT%H:%M:%S.%fZ')\n\n# Create the RGB like we did before\n\n# Load the three channels into appropriate R, G, and B\nR = C['CMI_C02'].data\nG = C['CMI_C03'].data\nB = C['CMI_C01'].data\n\n# Apply range limits for each channel. RGB values must be between 0 and 1\nR = np.clip(R, 0, 1)\nG = np.clip(G, 0, 1)\nB = np.clip(B, 0, 1)\n\n# Apply the gamma correction\ngamma = 2.2\nR = np.power(R, 1/gamma)\nG = np.power(G, 1/gamma)\nB = np.power(B, 1/gamma)\n\n# Calculate the \"True\" Green\nG_true = 0.45 * R + 0.1 * G + 0.45 * B\nG_true = np.clip(G_true, 0, 1)\n\n# The final RGB array :)\nRGB = np.dstack([R, G_true, B])"
      ]
    },
    {
      "cell_type": "markdown",
      "metadata": {},
      "source": [
        "Load the Clear IR  10.3 µm channel (Band 13)\n-------------------------------------------------------\n\nWhen you print the contents of channel 13, notice that the unit of the clean\nIR channel is *brightness temperature*, NOT reflectance. We need to normalize\nthe values between 0 and 1 before we can use it in our RGB image.  In this\ncase, we normalize the values between 90 Kelvin and 313 Kelvin.\n\n"
      ]
    },
    {
      "cell_type": "code",
      "execution_count": null,
      "metadata": {
        "collapsed": false
      },
      "outputs": [],
      "source": [
        "print(C['CMI_C13'])"
      ]
    },
    {
      "cell_type": "markdown",
      "metadata": {},
      "source": [
        "Apply the normalization...\n\n"
      ]
    },
    {
      "cell_type": "code",
      "execution_count": null,
      "metadata": {
        "collapsed": false
      },
      "outputs": [],
      "source": [
        "cleanIR = C['CMI_C13'].data\n\n# Normalize the channel between a range.\n#       cleanIR = (cleanIR-minimumValue)/(maximumValue-minimumValue)\ncleanIR = (cleanIR-90)/(313-90)\n\n# Apply range limits to make sure values are between 0 and 1\ncleanIR = np.clip(cleanIR, 0, 1)\n\n# Invert colors so that cold clouds are white\ncleanIR = 1 - cleanIR\n\n# Lessen the brightness of the coldest clouds so they don't appear so bright\n# when we overlay it on the true color image.\ncleanIR = cleanIR/1.4\n\n# Yes, we still need 3 channels as RGB values. This will be a grey image.\nRGB_cleanIR = np.dstack([cleanIR, cleanIR, cleanIR])"
      ]
    },
    {
      "cell_type": "markdown",
      "metadata": {},
      "source": [
        "Show the true color and clean IR images\n---------------------------------------\n\nWe want to overlay these two images, so the clean IR fills in the night sky\non the True Color image. This way we can still see the clouds at night.\n\n"
      ]
    },
    {
      "cell_type": "code",
      "execution_count": null,
      "metadata": {
        "collapsed": false
      },
      "outputs": [],
      "source": [
        "fig, (ax1, ax2) = plt.subplots(1, 2, figsize=(16, 6))\n\nax1.set_title('True Color', fontweight='bold')\nax1.imshow(RGB)\nax1.axis('off')\n\nax2.set_title('Clean IR', fontweight='bold')\nax2.imshow(RGB_cleanIR)\nax2.axis('off')\n\nplt.show()"
      ]
    },
    {
      "cell_type": "markdown",
      "metadata": {},
      "source": [
        "To fill in the dark area on the true color image, we will set each RGB channel\nto equal the maximum value between the visible channels and the IR\nchannels. When this is done, where RGB values are black in the true color\nimage RGB = (0,0,0), it will be replaced with a higher value of the `cleanIR\nRGB`.\n\nNote that if the clean IR has really bright, cold clouds in the daylight, they\nwill replace the color values in the true color image making the clouds appear\nmore white. Still, it makes a nice plot and let's you see clouds when it is\nnight.\n\n"
      ]
    },
    {
      "cell_type": "code",
      "execution_count": null,
      "metadata": {
        "collapsed": false
      },
      "outputs": [],
      "source": [
        "# Maximize the RGB values between the True Color Image and Clean IR image\nRGB_ColorIR = np.dstack([np.maximum(R, cleanIR), np.maximum(G_true, cleanIR),\n                         np.maximum(B, cleanIR)])"
      ]
    },
    {
      "cell_type": "code",
      "execution_count": null,
      "metadata": {
        "collapsed": false
      },
      "outputs": [],
      "source": [
        "fig = plt.figure(figsize=(15, 12))\n\nax = fig.add_subplot(1, 1, 1, projection=geos)\n\nax.imshow(RGB_ColorIR, origin='upper',\n          extent=(x.min(), x.max(), y.min(), y.max()),\n          transform=geos)\n\nax.coastlines(resolution='50m', color='black', linewidth=2)\nax.add_feature(ccrs.cartopy.feature.STATES)\n\nplt.title('GOES-16 True Color and Night IR', loc='left', fontweight='bold',\n          fontsize=15)\nplt.title('{}'.format(scan_start.strftime('%H:%M UTC %d %B %Y'), loc='right'),\n          loc='right')\n\nplt.show()"
      ]
    },
    {
      "cell_type": "markdown",
      "metadata": {},
      "source": [
        "Adjust Image Contrast\n---------------------\n\nI think the color looks a little dull. We could get complicated and make a\nRayleigh correction to the data to fix the blue light scattering, but that can\nbe intense. More simply, we can make the colors pop out by adjusting the image\ncontrast. Adjusting image contrast is easy to do in Photoshop, and also easy\nto do in Python.\n\nWe are still using the RGB values from the day/night GOES-16 ABI scan.\n\nNote: you should adjust the contrast _before_ you add in the Clean IR channel.\n\n"
      ]
    },
    {
      "cell_type": "code",
      "execution_count": null,
      "metadata": {
        "collapsed": false
      },
      "outputs": [],
      "source": [
        "def contrast_correction(color, contrast):\n    \"\"\"\n    Modify the contrast of an RGB\n    See:\n    https://www.dfstudios.co.uk/articles/programming/image-programming-algorithms/image-processing-algorithms-part-5-contrast-adjustment/\n\n    Input:\n        color    - an array representing the R, G, and/or B channel\n        contrast - contrast correction level\n    \"\"\"\n    F = (259*(contrast + 255))/(255.*259-contrast)\n    COLOR = F*(color-.5)+.5\n    COLOR = np.clip(COLOR, 0, 1)  # Force value limits 0 through 1.\n    return COLOR\n\n\n# Amount of contrast\ncontrast_amount = 105\n\n# Apply contrast correction\nRGB_contrast = contrast_correction(RGB, contrast_amount)\n\n# Add in clean IR to the contrast-corrected True Color image\nRGB_contrast_IR = np.dstack([np.maximum(RGB_contrast[:, :, 0], cleanIR),\n                             np.maximum(RGB_contrast[:, :, 1], cleanIR),\n                             np.maximum(RGB_contrast[:, :, 2], cleanIR)])"
      ]
    },
    {
      "cell_type": "code",
      "execution_count": null,
      "metadata": {
        "collapsed": false
      },
      "outputs": [],
      "source": [
        "# Plot on map with Cartopy\n\nfig = plt.figure(figsize=(15, 12))\n\nax1 = fig.add_subplot(1, 2, 1, projection=geos)\nax2 = fig.add_subplot(1, 2, 2, projection=geos)\n\nax1.imshow(RGB_ColorIR, origin='upper',\n           extent=(x.min(), x.max(), y.min(), y.max()),\n           transform=geos)\nax1.coastlines(resolution='50m', color='black', linewidth=2)\nax1.add_feature(ccrs.cartopy.feature.BORDERS)\nax1.set_title('True Color and Night IR')\n\nax2.imshow(RGB_contrast_IR, origin='upper',\n           extent=(x.min(), x.max(), y.min(), y.max()),\n           transform=geos)\nax2.coastlines(resolution='50m', color='black', linewidth=2)\nax2.add_feature(ccrs.cartopy.feature.BORDERS)\nax2.set_title('Contrast Correction = {}'.format(contrast_amount))\n\nplt.subplots_adjust(wspace=.02)"
      ]
    },
    {
      "cell_type": "markdown",
      "metadata": {},
      "source": [
        "Can we make plots for a Mesoscale scan?\n---------------------------------------\n\nYes. Yes we can.\n\n"
      ]
    },
    {
      "cell_type": "code",
      "execution_count": null,
      "metadata": {
        "collapsed": false
      },
      "outputs": [],
      "source": [
        "# M1 is for the Mesoscale1 NetCDF file\n\nFILE = ('http://ramadda-jetstream.unidata.ucar.edu/repository/opendap'\n        '/5e02eafa-5cee-4d00-9f58-6e201e69b014/entry.das#fillmismatch')\nM1 = xarray.open_dataset(FILE)\n\n# Load the RGB arrays\nR = M1['CMI_C02'][:].data\nG = M1['CMI_C03'][:].data\nB = M1['CMI_C01'][:].data\n\n# Apply range limits for each channel. RGB values must be between 0 and 1\nR = np.clip(R, 0, 1)\nG = np.clip(G, 0, 1)\nB = np.clip(B, 0, 1)\n\n# Apply the gamma correction\ngamma = 2.2\nR = np.power(R, 1/gamma)\nG = np.power(G, 1/gamma)\nB = np.power(B, 1/gamma)\n\n# Calculate the \"True\" Green\nG_true = 0.45 * R + 0.1 * G + 0.45 * B\nG_true = np.clip(G_true, 0, 1)\n\n# The final RGB array :)\nRGB = np.dstack([R, G_true, B])\n\n# Scan's start time, converted to datetime object\nscan_start = datetime.strptime(M1.time_coverage_start, '%Y-%m-%dT%H:%M:%S.%fZ')\n\n# We'll use the `CMI_C02` variable as a 'hook' to get the CF metadata.\ndat = M1.metpy.parse_cf('CMI_C02')\n\n# Need the satellite sweep x and y values, too.\nx = dat.x\ny = dat.y"
      ]
    },
    {
      "cell_type": "code",
      "execution_count": null,
      "metadata": {
        "collapsed": false
      },
      "outputs": [],
      "source": [
        "fig = plt.figure(figsize=(10, 8))\n\nax = fig.add_subplot(1, 1, 1, projection=lc)\nax.set_extent([-125, -70, 25, 50], crs=ccrs.PlateCarree())\n\nax.imshow(RGB, origin='upper',\n          extent=(x.min(), x.max(), y.min(), y.max()),\n          transform=geos)\n\nax.coastlines(resolution='50m', color='black', linewidth=0.5)\nax.add_feature(ccrs.cartopy.feature.STATES, linewidth=0.5)\nax.add_feature(ccrs.cartopy.feature.BORDERS, linewidth=0.5)\n\nplt.title('GOES-16 True Color', fontweight='bold', fontsize=15, loc='left')\nplt.title('Mesoscale Section 1')\nplt.title('{}'.format(scan_start.strftime('%H:%M UTC %d %B %Y')), loc='right')\n\nplt.show()"
      ]
    },
    {
      "cell_type": "code",
      "execution_count": null,
      "metadata": {
        "collapsed": false
      },
      "outputs": [],
      "source": [
        "fig = plt.figure(figsize=(15, 12))\n\nax = fig.add_subplot(1, 1, 1, projection=geos)\n\nax.imshow(RGB, origin='upper',\n          extent=(x.min(), x.max(), y.min(), y.max()),\n          transform=geos)\n\nax.coastlines(resolution='50m', color='black', linewidth=0.25)\nax.add_feature(ccrs.cartopy.feature.STATES, linewidth=0.25)\n\nplt.title('GOES-16 True Color', fontweight='bold', fontsize=15, loc='left')\nplt.title('Mesoscale Section 1')\nplt.title('{}'.format(scan_start.strftime('%H:%M UTC %d %B %Y')), loc='right')\n\nplt.show()"
      ]
    },
    {
      "cell_type": "markdown",
      "metadata": {},
      "source": [
        "Can we do this for a Full Disk Scan? It's possible...\n-----------------------------------------------------\n\nbut data files are so large that plotting is very slow.  Feel free to\nexperiment.\n\n"
      ]
    },
    {
      "cell_type": "code",
      "execution_count": null,
      "metadata": {
        "collapsed": false
      },
      "outputs": [],
      "source": [
        "FILE = ('http://ramadda-jetstream.unidata.ucar.edu/repository/opendap'\n        '/deb91f58-f997-41a3-a077-987529bf02b3/entry.das#fillmismatch')\nF = xarray.open_dataset(FILE)\n\n# Load the RGB arrays\nR = F['CMI_C02'][:].data\nG = F['CMI_C03'][:].data\nB = F['CMI_C01'][:].data\n\n# Apply range limits for each channel. RGB values must be between 0 and 1\nR = np.clip(R, 0, 1)\nG = np.clip(G, 0, 1)\nB = np.clip(B, 0, 1)\n\n# Apply the gamma correction\ngamma = 2.2\nR = np.power(R, 1/gamma)\nG = np.power(G, 1/gamma)\nB = np.power(B, 1/gamma)\n\n# Calculate the \"True\" Green\nG_true = 0.48358168 * R + 0.45706946 * B + 0.06038137 * G\nG_true = np.clip(G_true, 0, 1)\n\n# The final RGB array :)\nRGB = np.dstack([R, G_true, B])\n\n# We'll use the `CMI_C02` variable as a 'hook' to get the CF metadata.\ndat = F.metpy.parse_cf('CMI_C02')\n\nx = dat.x\ny = dat.y"
      ]
    },
    {
      "cell_type": "markdown",
      "metadata": {},
      "source": [
        "Geostationary projection is easy...\n\n"
      ]
    },
    {
      "cell_type": "code",
      "execution_count": null,
      "metadata": {
        "collapsed": false
      },
      "outputs": [],
      "source": [
        "fig = plt.figure(figsize=(10, 8))\n\nax = fig.add_subplot(1, 1, 1, projection=geos)\n\nax.imshow(RGB, origin='upper',\n          extent=(x.min(), x.max(), y.min(), y.max()),\n          transform=geos)\n\nax.coastlines(resolution='50m', color='black', linewidth=1)\nax.add_feature(ccrs.cartopy.feature.BORDERS, linewidth=1)\n\nplt.title('GOES-16 True Color', fontweight='bold', fontsize=15, loc='left')\nplt.title('Full Disk\\n{}'.format(scan_start.strftime('%H:%M UTC %d %B %Y')),\n          loc='right')\n\nplt.show()"
      ]
    }
  ],
  "metadata": {
    "kernelspec": {
      "display_name": "Python [conda env:pyaos-ams-2020]",
      "language": "python",
      "name": "conda-env-pyaos-ams-2020-py"
    },
    "language_info": {
      "codemirror_mode": {
        "name": "ipython",
        "version": 3
      },
      "file_extension": ".py",
      "mimetype": "text/x-python",
      "name": "python",
      "nbconvert_exporter": "python",
      "pygments_lexer": "ipython3",
      "version": "3.7.3"
    }
  },
  "nbformat": 4,
  "nbformat_minor": 0
}
