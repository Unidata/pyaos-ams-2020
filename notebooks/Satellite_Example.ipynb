{
  "cells": [
    {
      "cell_type": "code",
      "execution_count": null,
      "metadata": {
        "collapsed": false
      },
      "outputs": [],
      "source": [
        "%matplotlib inline"
      ]
    },
    {
      "cell_type": "markdown",
      "metadata": {},
      "source": [
        "\n# WV Satellite Overlay Example\n\n\nPlot a Gini Satellite file and overlay GFS-based data.\n\nUsing the Gini read capability of MetPy with Siphon to bring in the best GFS\ndata according to the current time, plot an overlay of WV imagery with 300-hPa\nGeopotential Heights and Wind Barbs.\n"
      ]
    },
    {
      "cell_type": "markdown",
      "metadata": {},
      "source": [
        "Begin with imports, need a lot for this task.\n\n"
      ]
    },
    {
      "cell_type": "code",
      "execution_count": null,
      "metadata": {
        "collapsed": false
      },
      "outputs": [],
      "source": [
        "# A whole bunch of imports\nimport cartopy.crs as ccrs\nimport cartopy.feature as cfeature\nfrom matplotlib import patheffects\nimport matplotlib.pyplot as plt\nfrom metpy.io import GiniFile\nfrom metpy.plots.ctables import registry\nfrom metpy.units import units\nfrom netCDF4 import num2date\nimport scipy.ndimage as ndimage\nfrom siphon.catalog import TDSCatalog\nimport xarray as xr"
      ]
    },
    {
      "cell_type": "markdown",
      "metadata": {},
      "source": [
        "Get satellite data and set projection based on that data.\n\n"
      ]
    },
    {
      "cell_type": "code",
      "execution_count": null,
      "metadata": {
        "collapsed": false
      },
      "outputs": [],
      "source": [
        "# Scan the catalog and download the data\nsatcat = TDSCatalog('http://thredds-jetstream.unidata.ucar.edu/thredds/catalog/satellite/'\n                    'WV/WEST-CONUS_4km/current/catalog.xml')\ndataset = satcat.datasets[0]\nf = GiniFile(dataset.remote_open())\ngini_ds = xr.open_dataset(f)\n\n# Pull parts out of the data file\ndat = gini_ds.metpy.parse_cf('WV')\ndata_var = gini_ds.variables['WV']\nx = gini_ds.variables['x'][:]\ny = gini_ds.variables['y'][:]\ntimestamp = f.prod_desc.datetime"
      ]
    },
    {
      "cell_type": "markdown",
      "metadata": {},
      "source": [
        "Use Siphon to obtain data that is close to the time of the satellite file\n\n"
      ]
    },
    {
      "cell_type": "code",
      "execution_count": null,
      "metadata": {
        "collapsed": false
      },
      "outputs": [],
      "source": [
        "gfscat = TDSCatalog('http://thredds-jetstream.unidata.ucar.edu/thredds/catalog/grib/'\n                    'NCEP/GFS/Global_0p5deg/catalog.xml')\ndataset = gfscat.datasets['Best GFS Half Degree Forecast Time Series']\nncss = dataset.subset()\n\n# First get wind components data\nquery_wind = ncss.query()\nquery_wind.variables('u-component_of_wind_isobaric',\n                     'v-component_of_wind_isobaric')\nquery_wind.add_lonlat().vertical_level(300 * 100)\nquery_wind.time(timestamp)  # Use the time from the GINI file\nquery_wind.lonlat_box(north=65, south=15, east=310, west=220)\ndata_wind = ncss.get_data(query_wind)\n\n# Second get Geopotential height data because it has a different number of levels\nquery_hght = ncss.query()\nquery_hght.variables('Geopotential_height_isobaric')\nquery_hght.add_lonlat().vertical_level(300 * 100)\nquery_hght.time(timestamp)  # Use the time from the GINI file\nquery_hght.lonlat_box(north=65, south=15, east=310, west=220)\ndata_hght = ncss.get_data(query_hght)"
      ]
    },
    {
      "cell_type": "markdown",
      "metadata": {},
      "source": [
        "Pull out specific variables and attach units.\n\n"
      ]
    },
    {
      "cell_type": "code",
      "execution_count": null,
      "metadata": {
        "collapsed": false
      },
      "outputs": [],
      "source": [
        "hght_300 = data_hght.variables['Geopotential_height_isobaric'][:].squeeze() * units.meter\nuwnd_300 = data_wind.variables['u-component_of_wind_isobaric'][:].squeeze()\nvwnd_300 = data_wind.variables['v-component_of_wind_isobaric'][:].squeeze()\n\nZ_300 = ndimage.gaussian_filter(hght_300, sigma=4, order=0)\nU_300 = units('m/s') * ndimage.gaussian_filter(uwnd_300, sigma=4, order=0)\nV_300 = units('m/s') * ndimage.gaussian_filter(vwnd_300, sigma=4, order=0)\n\nlon = data_hght.variables['lon'][:]\nlat = data_hght.variables['lat'][:]\ntime = data_hght.variables[data_hght.variables['Geopotential_height_isobaric'].dimensions[0]]\nvtime = num2date(time[:], time.units)"
      ]
    },
    {
      "cell_type": "markdown",
      "metadata": {},
      "source": [
        "Create figure with an overlay of WV Imagery with 300-hPa Heights and Wind\n\n"
      ]
    },
    {
      "cell_type": "code",
      "execution_count": null,
      "metadata": {
        "collapsed": false
      },
      "outputs": [],
      "source": [
        "# Create the figure\nfig = plt.figure(figsize=(10, 10))\nax = fig.add_subplot(1, 1, 1, projection=dat.metpy.cartopy_crs)\n\n# Add mapping information\nax.coastlines(resolution='50m', color='black')\nax.add_feature(cfeature.STATES, linestyle=':')\nax.add_feature(cfeature.BORDERS, linewidth=2)\n\n# Plot the image with our colormapping choices\nwv_norm, wv_cmap = registry.get_with_range('WVCIMSS', 100, 260)\nim = ax.imshow(data_var[:], extent=(x[0], x[-1], y[0], y[-1]), origin='upper',\n               cmap=wv_cmap, norm=wv_norm)\n\n# Add the text, complete with outline\ntext = ax.text(0.99, 0.01, timestamp.strftime('%d %B %Y %H%MZ'),\n               horizontalalignment='right', transform=ax.transAxes,\n               color='white', fontsize='x-large', weight='bold')\ntext.set_path_effects([patheffects.withStroke(linewidth=2, foreground='black')])\n\n# PLOT 300-hPa Geopotential Heights and Wind Barbs\nax.set_extent([-132, -95, 25, 47], ccrs.Geodetic())\ncs = ax.contour(lon, lat, Z_300, colors='black', transform=ccrs.PlateCarree())\nax.clabel(cs, fontsize=12, colors='k', inline=1, inline_spacing=8,\n          fmt='%i', rightside_up=True, use_clabeltext=True)\n\nax.barbs(lon, lat, U_300.to('knots').m, V_300.to('knots').m, color='tab:red',\n         length=7, regrid_shape=15, pivot='middle', transform=ccrs.PlateCarree())\n\nax.set_title('300-hPa Geo Heights (m; black) and Wind Barbs (kt)', loc='left')\nax.set_title('Valid: {}'.format(vtime[0]), loc='right')\n\nplt.show()"
      ]
    }
  ],
  "metadata": {
    "kernelspec": {
      "display_name": "Python [conda env:notebook-gallery]",
      "language": "python",
      "name": "conda-env-notebook-gallery-py"
    },
    "language_info": {
      "codemirror_mode": {
        "name": "ipython",
        "version": 3
      },
      "file_extension": ".py",
      "mimetype": "text/x-python",
      "name": "python",
      "nbconvert_exporter": "python",
      "pygments_lexer": "ipython3",
      "version": "3.7.3"
    }
  },
  "nbformat": 4,
  "nbformat_minor": 0
}
