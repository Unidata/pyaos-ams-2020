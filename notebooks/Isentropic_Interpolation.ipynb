{
  "cells": [
    {
      "cell_type": "code",
      "execution_count": null,
      "metadata": {
        "collapsed": false
      },
      "outputs": [],
      "source": [
        "%matplotlib inline"
      ]
    },
    {
      "cell_type": "markdown",
      "metadata": {},
      "source": [
        "\n# Isentropic Analysis\n\n\nThe MetPy function `metpy.calc.isentropic_interpolation` allows for isentropic analysis from\nmodel analysis data in isobaric coordinates.\n"
      ]
    },
    {
      "cell_type": "code",
      "execution_count": null,
      "metadata": {
        "collapsed": false
      },
      "outputs": [],
      "source": [
        "from datetime import datetime, timedelta\n\nimport cartopy.crs as ccrs\nimport cartopy.feature as cfeature\nimport matplotlib.pyplot as plt\nimport metpy.calc\nfrom metpy.units import units\nfrom netCDF4 import num2date\nimport numpy as np\nfrom siphon.catalog import TDSCatalog"
      ]
    },
    {
      "cell_type": "markdown",
      "metadata": {},
      "source": [
        "Getting the data\n\nIn this example, the latest GFS forecasts data from the National Centers for\nEnvironmental Information (https://nomads.ncdc.noaa.gov) will be used, courtesy of the\nUniveristy Corporation for Atmospheric Research Thredds Data Server.\n\n"
      ]
    },
    {
      "cell_type": "code",
      "execution_count": null,
      "metadata": {
        "collapsed": false
      },
      "outputs": [],
      "source": [
        "# Latest GFS Dataset\ncat = TDSCatalog('http://thredds-jetstream.unidata.ucar.edu/thredds/catalog/grib/'\n                 'NCEP/GFS/Global_0p5deg/catalog.xml')\nncss = cat.latest.subset()\n\n# Find the start of the model run and define time range\nstart_time = ncss.metadata.time_span['begin']\nstart = datetime.strptime(start_time, '%Y-%m-%dT%H:%M:%Sz')\nend = start + timedelta(hours=9)\n\n# Query for Latest GFS Run\ngfsdata = ncss.query().time_range(start, end).accept('netcdf4')\n\ngfsdata.variables('Temperature_isobaric',\n                  'u-component_of_wind_isobaric',\n                  'v-component_of_wind_isobaric',\n                  'Relative_humidity_isobaric').add_lonlat()\n\n# Set the lat/lon box for the data you want to pull in.\n# lonlat_box(north_lat,south_lat,east_lon,west_lon)\ngfsdata.lonlat_box(-150, -50, 15, 65)\n\n# Actually getting the data\ndata = ncss.get_data(gfsdata)\n\ndtime = data.variables['Temperature_isobaric'].dimensions[0]\ndlev_hght = data.variables['Temperature_isobaric'].dimensions[1]\ndlev_uwnd = data.variables['u-component_of_wind_isobaric'].dimensions[1]\nlat = data.variables['lat'][:]\nlon = data.variables['lon'][:]\nlev_hght = data.variables[dlev_hght][:] * units.Pa\nlev_uwnd = data.variables[dlev_uwnd][:] * units.Pa\n# Due to a different number of vertical levels find where they are common\n_, _, common_ind = np.intersect1d(lev_uwnd, lev_hght, return_indices=True)\ntimes = data.variables[dtime]\nvtimes = num2date(times[:], times.units)\ntemps = data.variables['Temperature_isobaric']\ntmp = temps[:, common_ind, :, :] * units.kelvin\nuwnd = data.variables['u-component_of_wind_isobaric'][:] * units.meter / units.second\nvwnd = data.variables['v-component_of_wind_isobaric'][:] * units.meter / units.second\nrelh = data.variables['Relative_humidity_isobaric'][:]"
      ]
    },
    {
      "cell_type": "markdown",
      "metadata": {},
      "source": [
        "To properly interpolate to isentropic coordinates, the function must know the desired output\nisentropic levels. An array with these levels will be created below.\n\n"
      ]
    },
    {
      "cell_type": "code",
      "execution_count": null,
      "metadata": {
        "collapsed": false
      },
      "outputs": [],
      "source": [
        "isentlevs = np.arange(310, 316, 5) * units.kelvin"
      ]
    },
    {
      "cell_type": "markdown",
      "metadata": {},
      "source": [
        "Conversion to Isentropic Coordinates\n\nOnce model data in isobaric coordinates has been pulled and the desired isentropic levels\ncreated, the conversion to isentropic coordinates can begin. Data will be passed to the\nfunction as below. The function requires that isentropic levels, isobaric levels, and\ntemperature be input. Any additional inputs (in this case relative humidity, u, and v wind\ncomponents) will be linearly interpolated to isentropic space.\n\n"
      ]
    },
    {
      "cell_type": "code",
      "execution_count": null,
      "metadata": {
        "collapsed": false
      },
      "outputs": [],
      "source": [
        "isent_anal = metpy.calc.isentropic_interpolation(isentlevs, lev_uwnd, tmp,\n                                                 relh, uwnd, vwnd, axis=1)"
      ]
    },
    {
      "cell_type": "markdown",
      "metadata": {},
      "source": [
        "The output is a list, so now we will separate the variables to different names before\nplotting.\n\n"
      ]
    },
    {
      "cell_type": "code",
      "execution_count": null,
      "metadata": {
        "collapsed": false
      },
      "outputs": [],
      "source": [
        "isentprs, isentrh, isentu, isentv = isent_anal"
      ]
    },
    {
      "cell_type": "markdown",
      "metadata": {},
      "source": [
        "A quick look at the shape of these variables will show that the data is now in isentropic\ncoordinates, with the number of vertical levels as specified above.\n\n"
      ]
    },
    {
      "cell_type": "code",
      "execution_count": null,
      "metadata": {
        "collapsed": false
      },
      "outputs": [],
      "source": [
        "print(isentprs.shape)\nprint(isentrh.shape)\nprint(isentu.shape)\nprint(isentv.shape)"
      ]
    },
    {
      "cell_type": "markdown",
      "metadata": {},
      "source": [
        "**Plotting the Isentropic Analysis**\n\n"
      ]
    },
    {
      "cell_type": "markdown",
      "metadata": {},
      "source": [
        "Set up our projection\n\n"
      ]
    },
    {
      "cell_type": "code",
      "execution_count": null,
      "metadata": {
        "collapsed": false
      },
      "outputs": [],
      "source": [
        "crs = ccrs.LambertConformal(central_longitude=-100.0, central_latitude=45.0)\n\n# Set up our array of latitude and longitude values and transform to\n# the desired projection.\nclons, clats = np.meshgrid(lon, lat)\n\n# Get data to plot state and province boundaries\nstates_provinces = cfeature.NaturalEarthFeature(\n    category='cultural',\n    name='admin_1_states_provinces_lakes',\n    scale='50m',\n    facecolor='none')\nlevel = 0\nFH = 0\nfig = plt.figure(1, figsize=(14., 12.))\nax = plt.subplot(111, projection=crs)\n\n# Set plot extent\nax.set_extent((-121., -74., 25., 50.), crs=ccrs.PlateCarree())\nax.coastlines('50m', edgecolor='black', linewidth=0.75)\nax.add_feature(states_provinces, edgecolor='black', linewidth=0.5)\n\n# Plot the 300K surface\nclevisent = np.arange(0, 1000, 25)\ncs = ax.contour(clons, clats, isentprs[FH, level, :, :], clevisent,\n                transform=ccrs.PlateCarree(),\n                colors='k', linewidths=1.0, linestyles='solid')\nplt.clabel(cs, fontsize=10, inline=1, inline_spacing=7,\n           fmt='%i', rightside_up=True, use_clabeltext=True)\n\ncf = ax.contourf(clons, clats, isentrh[FH, level, :, :], range(10, 106, 5),\n                 transform=ccrs.PlateCarree(),\n                 cmap=plt.cm.gist_earth_r)\nplt.colorbar(cf, orientation='horizontal', extend=max, aspect=65, pad=0,\n             extendrect='True')\n\nwind_slice = [FH, level, slice(None, None, 5), slice(None, None, 5)]\nax.barbs(clons[wind_slice[2:]], clats[wind_slice[2:]],\n         isentu[wind_slice].m, isentv[wind_slice].m, length=6,\n         transform=ccrs.PlateCarree())\n\n# Make some titles\nplt.title('{:.0f} K Isentropic Level'.format(isentlevs[level].m), loc='left')\nplt.title('VALID: {:s} UTC'.format(str(vtimes[FH])), loc='right')\n\nplt.show()"
      ]
    }
  ],
  "metadata": {
    "kernelspec": {
      "display_name": "Python [conda env:pyaos-ams-2020]",
      "language": "python",
      "name": "conda-env-pyaos-ams-2020-py"
    },
    "language_info": {
      "codemirror_mode": {
        "name": "ipython",
        "version": 3
      },
      "file_extension": ".py",
      "mimetype": "text/x-python",
      "name": "python",
      "nbconvert_exporter": "python",
      "pygments_lexer": "ipython3",
      "version": "3.7.3"
    }
  },
  "nbformat": 4,
  "nbformat_minor": 0
}
