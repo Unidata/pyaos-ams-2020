{
  "cells": [
    {
      "cell_type": "code",
      "execution_count": null,
      "metadata": {
        "collapsed": false
      },
      "outputs": [],
      "source": [
        "%matplotlib inline"
      ]
    },
    {
      "cell_type": "markdown",
      "metadata": {},
      "source": [
        "\n# Calculating Wind Shear\n\n\nThis example plots calculates the 850-500 hPa Bulk Wind Shear\n\nPlotting over a regional domain, accessing the Best Collection of GFS from the\nUnidata Thredds server, plots MSLP (hPa), 850-hPa Wind Vector (m/s), 500-hPa\nWind Vector (m/s), and the Wind Shear between the two layers (m/s)\n"
      ]
    },
    {
      "cell_type": "markdown",
      "metadata": {},
      "source": [
        "Import necessary packages and obtain data\n\n"
      ]
    },
    {
      "cell_type": "code",
      "execution_count": null,
      "metadata": {
        "collapsed": false
      },
      "outputs": [],
      "source": [
        "from datetime import datetime\n\nimport cartopy.crs as ccrs\nimport cartopy.feature as cfeature\nimport matplotlib.pyplot as plt\nfrom metpy.units import units\nfrom netCDF4 import num2date\nimport numpy as np\nimport scipy.ndimage as ndimage\nfrom siphon.catalog import TDSCatalog\nfrom siphon.ncss import NCSS"
      ]
    },
    {
      "cell_type": "markdown",
      "metadata": {},
      "source": [
        "Helper function for finding proper time variable\n\n"
      ]
    },
    {
      "cell_type": "code",
      "execution_count": null,
      "metadata": {
        "collapsed": false
      },
      "outputs": [],
      "source": [
        "def find_time_var(var, time_basename='time'):\n    for coord_name in var.coordinates.split():\n        if coord_name.startswith(time_basename):\n            return coord_name\n    raise ValueError('No time variable found for ' + var.name)"
      ]
    },
    {
      "cell_type": "markdown",
      "metadata": {},
      "source": [
        "Obtain data\n\n"
      ]
    },
    {
      "cell_type": "code",
      "execution_count": null,
      "metadata": {
        "collapsed": false
      },
      "outputs": [],
      "source": [
        "# Construct a TDSCatalog instance pointing to the gfs dataset\nbest_gfs = TDSCatalog('http://thredds-jetstream.unidata.ucar.edu/thredds/catalog/grib/'\n                      'NCEP/GFS/Global_0p5deg/catalog.xml')\n\n# Pull out the dataset you want to use and look at the access URLs\nbest_ds = list(best_gfs.datasets.values())[1]\nprint(best_ds.access_urls)\n\n# Create NCSS object to access the NetcdfSubset\nncss = NCSS(best_ds.access_urls['NetcdfSubset'])\nprint(best_ds.access_urls['NetcdfSubset'])"
      ]
    },
    {
      "cell_type": "markdown",
      "metadata": {},
      "source": [
        "First Query for MSLP\n\n"
      ]
    },
    {
      "cell_type": "code",
      "execution_count": null,
      "metadata": {
        "collapsed": false
      },
      "outputs": [],
      "source": [
        "# Create lat/lon box for location you want to get data for\nquery = ncss.query()\nquery.lonlat_box(north=50, south=30, east=-80, west=-115).time(datetime.utcnow())\nquery.accept('netcdf4')\n\n# Request data for MSLP\nquery.variables('MSLP_Eta_model_reduction_msl')\ndata = ncss.get_data(query)\n\n# Pull out the variables you want to use\nmslp_var = data.variables['MSLP_Eta_model_reduction_msl']\ntime_var = data.variables[find_time_var(mslp_var)]\nlat_var = data.variables['lat']\nlon_var = data.variables['lon']"
      ]
    },
    {
      "cell_type": "markdown",
      "metadata": {},
      "source": [
        "Second Query for 850-hPa data\n\n"
      ]
    },
    {
      "cell_type": "code",
      "execution_count": null,
      "metadata": {
        "collapsed": false
      },
      "outputs": [],
      "source": [
        "# Request data for 850-hPa winds\n# First clear the query's variables from previous query for MSLP\nquery.var = set()\nquery.variables('u-component_of_wind_isobaric', 'v-component_of_wind_isobaric')\nquery.vertical_level(85000)\ndata = ncss.get_data(query)\nu_wind_var850 = data.variables['u-component_of_wind_isobaric']\nv_wind_var850 = data.variables['v-component_of_wind_isobaric']"
      ]
    },
    {
      "cell_type": "markdown",
      "metadata": {},
      "source": [
        "Third Query for 500-hPa data\n\n"
      ]
    },
    {
      "cell_type": "code",
      "execution_count": null,
      "metadata": {
        "collapsed": false
      },
      "outputs": [],
      "source": [
        "# Request data for 500-hPa winds\n# First clear the query's variables from previous query for 850-hPa data\nquery.var = set()\nquery.variables('u-component_of_wind_isobaric', 'v-component_of_wind_isobaric')\nquery.vertical_level(50000)\ndata = ncss.get_data(query)\nu_wind_var500 = data.variables['u-component_of_wind_isobaric']\nv_wind_var500 = data.variables['v-component_of_wind_isobaric']"
      ]
    },
    {
      "cell_type": "markdown",
      "metadata": {},
      "source": [
        "Data Manipulation\n\n"
      ]
    },
    {
      "cell_type": "code",
      "execution_count": null,
      "metadata": {
        "collapsed": false
      },
      "outputs": [],
      "source": [
        "# Get actual data values and remove any size 1 dimensions\nlat = lat_var[:].squeeze()\nlon = lon_var[:].squeeze()\nmslp = (mslp_var[:].squeeze() * units.Pa).to('hPa')\nu_wind850 = u_wind_var850[:].squeeze()\nv_wind850 = v_wind_var850[:].squeeze()\nu_wind500 = u_wind_var500[:].squeeze()\nv_wind500 = v_wind_var500[:].squeeze()\n\n# Convert number of hours since the reference time into an actual date\ntime = num2date(time_var[:].squeeze(), time_var.units)\n\n# Combine 1D latitude and longitudes into a 2D grid of locations\nlon_2d, lat_2d = np.meshgrid(lon, lat)\n\n# Smooth mslp data\nmslp = ndimage.gaussian_filter(mslp, sigma=3, order=0)"
      ]
    },
    {
      "cell_type": "markdown",
      "metadata": {},
      "source": [
        "Begin making figure\n\n"
      ]
    },
    {
      "cell_type": "code",
      "execution_count": null,
      "metadata": {
        "collapsed": false
      },
      "outputs": [],
      "source": [
        "# Create new figure\nfig = plt.figure(figsize=(15, 12), facecolor='black')\n\n# Add the map and set the extent\nax = plt.axes(projection=ccrs.PlateCarree())\nax.set_extent([-108., -91., 33., 45.])\nax.background_patch.set_fill(False)\n\n# Add state boundaries to plot\nax.add_feature(cfeature.STATES, edgecolor='white', linewidth=2)\n\n# Contour the MSLP\nc = ax.contour(lon_2d, lat_2d, mslp, colors='lime', linewidths=6)\nax.clabel(c, fontsize=12, inline=1, inline_spacing=4, fmt='%i')\n\nwslice = slice(1, None, 4)\n# Plot 850-hPa wind vectors\nvectors850 = ax.quiver(lon_2d[wslice, wslice], lat_2d[wslice, wslice],\n                       u_wind850[wslice, wslice], v_wind850[wslice, wslice],\n                       headlength=4, headwidth=3, angles='xy', scale_units='xy',\n                       scale=12, color='gold', label='850mb wind')\n\n# Plot 500-hPa wind vectors\nvectors500 = ax.quiver(lon_2d[wslice, wslice], lat_2d[wslice, wslice],\n                       u_wind500[wslice, wslice], v_wind500[wslice, wslice],\n                       headlength=4, headwidth=3, angles='xy', scale_units='xy',\n                       scale=12, color='cornflowerblue', label='500mb wind')\n\n# Plot 500-850 shear\nshear = ax.quiver(lon_2d[wslice, wslice], lat_2d[wslice, wslice],\n                  u_wind500[wslice, wslice] - u_wind850[wslice, wslice],\n                  v_wind500[wslice, wslice] - v_wind850[wslice, wslice],\n                  headlength=4, headwidth=3, angles='xy', scale_units='xy',\n                  scale=12, color='deeppink', label='500-850mb shear')\n\n# Add a legend\nax.legend(('850mb wind', '500mb wind', '500-850mb shear'), loc=4)\n\n# Manually set colors for legend\nlegend = ax.get_legend()\nlegend.legendHandles[0].set_color('gold')\nlegend.legendHandles[1].set_color('cornflowerblue')\nlegend.legendHandles[2].set_color('deeppink')\n\n# Add a title to the plot\nplt.title('MSLP, 850mb Wind, 500mb Wind, and 500-850mb Vertical Wind Shear \\n'\n          ' for {0:%d %B %Y %H:%MZ}'.format(time), color='white', size=14)\n\nplt.show()"
      ]
    }
  ],
  "metadata": {
    "kernelspec": {
      "display_name": "Python [conda env:pyaos-ams-2020]",
      "language": "python",
      "name": "conda-env-pyaos-ams-2020-py"
    },
    "language_info": {
      "codemirror_mode": {
        "name": "ipython",
        "version": 3
      },
      "file_extension": ".py",
      "mimetype": "text/x-python",
      "name": "python",
      "nbconvert_exporter": "python",
      "pygments_lexer": "ipython3",
      "version": "3.7.3"
    }
  },
  "nbformat": 4,
  "nbformat_minor": 0
}
