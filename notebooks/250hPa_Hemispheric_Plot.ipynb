{
  "cells": [
    {
      "cell_type": "code",
      "execution_count": null,
      "metadata": {
        "collapsed": false
      },
      "outputs": [],
      "source": [
        "%matplotlib inline"
      ]
    },
    {
      "cell_type": "markdown",
      "metadata": {},
      "source": [
        "\n# A 250-hPa Hemispheric Map using Python\n\n\nThis example plots a hemispheric plot of GFS 250-hPa Geopotential Heights and\nwind speed in knots.\n"
      ]
    },
    {
      "cell_type": "code",
      "execution_count": null,
      "metadata": {
        "collapsed": false
      },
      "outputs": [],
      "source": [
        "from datetime import datetime\n\nimport cartopy.crs as ccrs\nimport cartopy.feature as cfeature\nimport cartopy.util as cutil\nimport matplotlib.gridspec as gridspec\nimport matplotlib.pyplot as plt\nimport metpy.calc as mpcalc\nfrom metpy.units import units\nfrom netCDF4 import num2date\nimport numpy as np\nimport scipy.ndimage as ndimage\nfrom siphon.catalog import TDSCatalog\nfrom siphon.ncss import NCSS\n\n# Latest GFS Dataset\ncat = TDSCatalog('http://thredds-jetstream.unidata.ucar.edu/thredds/catalog/grib/'\n                 'NCEP/GFS/Global_0p5deg/latest.xml')\nbest_ds = list(cat.datasets.values())[0]\nncss = NCSS(best_ds.access_urls['NetcdfSubset'])\n\n# Set the time to current\nnow = datetime.utcnow()\n\n# Query for Latest GFS Run\ngfsdata_hght = ncss.query().time(now).accept('netcdf4')\ngfsdata_hght.variables('Geopotential_height_isobaric').add_lonlat()\n\n# Set the lat/lon box for the data you want to pull in.\n# lonlat_box(north_lat,south_lat,east_lon,west_lon)\ngfsdata_hght.lonlat_box(0, 360, 0, 90)\n\n# Set desired level 50000 = 50000 Pa = 500 hPa\ngfsdata_hght.vertical_level(25000)\n\n# Actually getting the data\ndata_hght = ncss.get_data(gfsdata_hght)\n\n# Query for Latest GFS Run\ngfsdata_wind = ncss.query().time(now).accept('netcdf4')\ngfsdata_wind.variables('u-component_of_wind_isobaric',\n                       'v-component_of_wind_isobaric').add_lonlat()\n\n# Set the lat/lon box for the data you want to pull in.\n# lonlat_box(north_lat,south_lat,east_lon,west_lon)\ngfsdata_wind.lonlat_box(0, 360, 0, 90)\n\n# Set desired level 50000 = 50000 Pa = 500 hPa\ngfsdata_wind.vertical_level(25000)\n\n# Actually getting the data\ndata_wind = ncss.get_data(gfsdata_wind)"
      ]
    },
    {
      "cell_type": "markdown",
      "metadata": {},
      "source": [
        "The next cell will take the downloaded data and parse it to different variables\nfor use later on. Add a cyclic point using the cartopy utility add_cyclic_point\nto the longitudes (the cyclic dimension) as well as any data that is being\ncontoured or filled.\n\n"
      ]
    },
    {
      "cell_type": "code",
      "execution_count": null,
      "metadata": {
        "collapsed": false
      },
      "outputs": [],
      "source": [
        "dtime = data_hght.variables['Geopotential_height_isobaric'].dimensions[0]\ndlat = data_hght.variables['Geopotential_height_isobaric'].dimensions[2]\ndlon = data_hght.variables['Geopotential_height_isobaric'].dimensions[3]\nlat = data_hght.variables[dlat][:]\nlon = data_hght.variables[dlon][:]\n\n# Converting times using the num2date function available through netCDF4\ntimes = data_hght.variables[dtime]\nvtimes = num2date(times[:], times.units)\n\n# Smooth the 250-hPa heights using a gaussian filter from scipy.ndimage\nhgt_250, lon = cutil.add_cyclic_point(data_hght.variables['Geopotential_height_isobaric'][:],\n                                      coord=lon)\nZ_250 = ndimage.gaussian_filter(hgt_250[0, 0, :, :], sigma=3, order=0)\n\nu250 = (units(data_wind.variables['u-component_of_wind_isobaric'].units) *\n        data_wind.variables['u-component_of_wind_isobaric'][0, 0, :, :])\nv250 = (units(data_wind.variables['v-component_of_wind_isobaric'].units) *\n        data_wind.variables['v-component_of_wind_isobaric'][0, 0, :, :])\nu250 = u250.units * cutil.add_cyclic_point(u250)\nv250 = v250.units * cutil.add_cyclic_point(v250)\nwspd250 = mpcalc.wind_speed(u250, v250).to('knots')"
      ]
    },
    {
      "cell_type": "markdown",
      "metadata": {},
      "source": [
        "The next cell sets up the geographic details for the plot that we are going to do later.\nThis is done using the Cartopy package. We will also bring in some geographic data to\ngeo-reference the image for us.\n\n"
      ]
    },
    {
      "cell_type": "code",
      "execution_count": null,
      "metadata": {
        "collapsed": false
      },
      "outputs": [],
      "source": [
        "datacrs = ccrs.PlateCarree()\nplotcrs = ccrs.NorthPolarStereo(central_longitude=-100.0)\n\n# Make a grid of lat/lon values to use for plotting with Basemap.\nlons, lats = np.meshgrid(lon, lat)\n\nfig = plt.figure(1, figsize=(12., 13.))\ngs = gridspec.GridSpec(2, 1, height_ratios=[1, .02],\n                       bottom=.07, top=.99, hspace=0.01, wspace=0.01)\n\nax = plt.subplot(gs[0], projection=plotcrs)\nax.set_title('250-hPa Geopotential Heights (m)', loc='left')\nax.set_title('VALID: {}'.format(vtimes[0]), loc='right')\n\n#   ax.set_extent([west long, east long, south lat, north lat])\nax.set_extent([-180, 180, 10, 90], ccrs.PlateCarree())\nax.coastlines('50m', edgecolor='black', linewidth=0.5)\nax.add_feature(cfeature.STATES, linewidth=0.5)\n\nclev250 = np.arange(9000, 12000, 120)\ncs = ax.contour(lons, lats, Z_250, clev250, colors='k',\n                linewidths=1.0, linestyles='solid', transform=datacrs)\nplt.clabel(cs, fontsize=8, inline=1, inline_spacing=10, fmt='%i',\n           rightside_up=True, use_clabeltext=True)\n\nclevsped250 = np.arange(50, 230, 20)\ncmap = plt.cm.get_cmap('BuPu')\ncf = ax.contourf(lons, lats, wspd250, clevsped250, cmap=cmap, transform=datacrs)\ncax = plt.subplot(gs[1])\ncbar = plt.colorbar(cf, cax=cax, orientation='horizontal', extend='max', extendrect=True)\n\nplt.show()"
      ]
    }
  ],
  "metadata": {
    "kernelspec": {
      "display_name": "Python [conda env:pyaos-ams-2020]",
      "language": "python",
      "name": "conda-env-pyaos-ams-2020-py"
    },
    "language_info": {
      "codemirror_mode": {
        "name": "ipython",
        "version": 3
      },
      "file_extension": ".py",
      "mimetype": "text/x-python",
      "name": "python",
      "nbconvert_exporter": "python",
      "pygments_lexer": "ipython3",
      "version": "3.7.3"
    }
  },
  "nbformat": 4,
  "nbformat_minor": 0
}
